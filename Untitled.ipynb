{
 "cells": [
  {
   "cell_type": "code",
   "execution_count": 9,
   "metadata": {},
   "outputs": [],
   "source": [
    "import numpy as np\n",
    "#from tensorflow.keras.models import Sequential\n",
    "#from tensorflow.keras.layers import Dense, Dropout, LSTM\n",
    "#from sklearn.model_selection import train_test_split"
   ]
  },
  {
   "cell_type": "code",
   "execution_count": 6,
   "metadata": {},
   "outputs": [],
   "source": [
    "X = np.load('X.npy')\n",
    "Y = np.load('Y.npy')\n",
    "#X_train, X_test, Y_train, Y_test = train_test_split(X,Y, test_size = 0.1, random_state = 42)"
   ]
  },
  {
   "cell_type": "code",
   "execution_count": 10,
   "metadata": {},
   "outputs": [
    {
     "data": {
      "text/plain": [
       "(63, 1864, 2279)"
      ]
     },
     "execution_count": 10,
     "metadata": {},
     "output_type": "execute_result"
    }
   ],
   "source": [
    "X.shape"
   ]
  },
  {
   "cell_type": "code",
   "execution_count": 11,
   "metadata": {},
   "outputs": [
    {
     "data": {
      "text/plain": [
       "array([[[0.        , 0.        , 0.        , ..., 0.        ,\n",
       "         0.        , 0.        ],\n",
       "        [0.        , 0.        , 0.        , ..., 0.        ,\n",
       "         0.        , 0.        ],\n",
       "        [0.        , 0.        , 0.        , ..., 0.        ,\n",
       "         0.        , 0.        ],\n",
       "        ...,\n",
       "        [0.11665905, 0.2333181 , 0.35037322, ..., 0.0832748 ,\n",
       "         0.04184507, 0.        ],\n",
       "        [0.11272899, 0.22545797, 0.33890389, ..., 0.08009114,\n",
       "         0.03330992, 0.        ],\n",
       "        [0.11665905, 0.23376351, 0.34719201, ..., 0.07911106,\n",
       "         0.03770427, 0.        ]],\n",
       "\n",
       "       [[0.        , 0.        , 0.        , ..., 0.        ,\n",
       "         0.        , 0.        ],\n",
       "        [0.        , 0.        , 0.        , ..., 0.        ,\n",
       "         0.        , 0.        ],\n",
       "        [0.        , 0.        , 0.        , ..., 0.        ,\n",
       "         0.        , 0.        ],\n",
       "        ...,\n",
       "        [0.1017732 , 0.2035464 , 0.30531961, ..., 0.07722097,\n",
       "         0.03660123, 0.        ],\n",
       "        [0.1132462 , 0.2305318 , 0.34358784, ..., 0.08488053,\n",
       "         0.04121976, 0.        ],\n",
       "        [0.1132462 , 0.22245309, 0.33667119, ..., 0.07679667,\n",
       "         0.03660123, 0.        ]],\n",
       "\n",
       "       [[0.        , 0.        , 0.        , ..., 0.        ,\n",
       "         0.        , 0.        ],\n",
       "        [0.        , 0.        , 0.        , ..., 0.        ,\n",
       "         0.        , 0.        ],\n",
       "        [0.        , 0.        , 0.        , ..., 0.        ,\n",
       "         0.        , 0.        ],\n",
       "        ...,\n",
       "        [0.10976009, 0.21952018, 0.32197887, ..., 0.07446536,\n",
       "         0.03142422, 0.        ],\n",
       "        [0.10913546, 0.21830572, 0.32798589, ..., 0.09744238,\n",
       "         0.04821183, 0.        ],\n",
       "        [0.10530992, 0.20749507, 0.31378261, ..., 0.07415871,\n",
       "         0.03593497, 0.        ]],\n",
       "\n",
       "       ...,\n",
       "\n",
       "       [[0.        , 0.        , 0.        , ..., 0.        ,\n",
       "         0.        , 0.        ],\n",
       "        [0.        , 0.        , 0.        , ..., 0.        ,\n",
       "         0.        , 0.        ],\n",
       "        [0.        , 0.        , 0.        , ..., 0.        ,\n",
       "         0.        , 0.        ],\n",
       "        ...,\n",
       "        [0.11144993, 0.22619849, 0.33528574, ..., 0.05074821,\n",
       "         0.02783691, 1.        ],\n",
       "        [0.07160986, 0.14278142, 0.21817188, ..., 0.05738726,\n",
       "         0.02721593, 1.        ],\n",
       "        [0.08446051, 0.16878605, 0.24989457, ..., 0.05827398,\n",
       "         0.02884217, 1.        ]],\n",
       "\n",
       "       [[0.        , 0.        , 0.        , ..., 0.        ,\n",
       "         0.        , 0.        ],\n",
       "        [0.        , 0.        , 0.        , ..., 0.        ,\n",
       "         0.        , 0.        ],\n",
       "        [0.        , 0.        , 0.        , ..., 0.        ,\n",
       "         0.        , 0.        ],\n",
       "        ...,\n",
       "        [0.08080221, 0.16526487, 0.25008492, ..., 0.06545022,\n",
       "         0.03098623, 1.        ],\n",
       "        [0.10384211, 0.20427786, 0.30517899, ..., 0.08972435,\n",
       "         0.04382115, 1.        ],\n",
       "        [0.10405527, 0.20757751, 0.31152633, ..., 0.07342746,\n",
       "         0.03919483, 1.        ]],\n",
       "\n",
       "       [[0.        , 0.        , 0.        , ..., 0.        ,\n",
       "         0.        , 0.        ],\n",
       "        [0.        , 0.        , 0.        , ..., 0.        ,\n",
       "         0.        , 0.        ],\n",
       "        [0.        , 0.        , 0.        , ..., 0.        ,\n",
       "         0.        , 0.        ],\n",
       "        ...,\n",
       "        [0.10654352, 0.21687303, 0.3248387 , ..., 0.08358625,\n",
       "         0.04192218, 1.        ],\n",
       "        [0.10247731, 0.20148116, 0.30515088, ..., 0.08006523,\n",
       "         0.04243449, 1.        ],\n",
       "        [0.1290455 , 0.25853714, 0.37766217, ..., 0.09140668,\n",
       "         0.04570334, 1.        ]]])"
      ]
     },
     "execution_count": 11,
     "metadata": {},
     "output_type": "execute_result"
    }
   ],
   "source": [
    "X"
   ]
  },
  {
   "cell_type": "code",
   "execution_count": 12,
   "metadata": {},
   "outputs": [
    {
     "data": {
      "text/plain": [
       "(63, 7)"
      ]
     },
     "execution_count": 12,
     "metadata": {},
     "output_type": "execute_result"
    }
   ],
   "source": [
    "Y.shape"
   ]
  },
  {
   "cell_type": "code",
   "execution_count": 5,
   "metadata": {},
   "outputs": [],
   "source": [
    "def evaluate_model(trainX, trainy, testX, testy):\n",
    "    verbose = 1\n",
    "    epochs = 2\n",
    "    n_timesteps, n_features, n_outputs = trainX.shape[1], trainX.shape[2], trainy.shape[1]\n",
    "    model = Sequential()\n",
    "    model.add(LSTM(32, input_shape=(n_timesteps, n_features)))\n",
    "    #model.add(Dropout(0.5))\n",
    "    model.add(Dense(16, activation='relu'))\n",
    "    model.add(Dense(n_outputs, activation='softmax'))\n",
    "    model.compile(loss='categorical_crossentropy', optimizer = 'adam', metrics = ['accuracy'])\n",
    "    model.fit(trainX, trainy, epochs=epochs, verbose=verbose)\n",
    "    _, accuracy = model.evaluate(testX, testy, verbose=verbose)\n",
    "    # serialize model to JSON\n",
    "    model_json = model.to_json()\n",
    "    with open(\"model.json\", \"w\") as json_file:\n",
    "        json_file.write(model_json)\n",
    "    # serialize weights to HDF5\n",
    "    model.save_weights(\"model_json.h5\")\n",
    "    print(\"Saved model to disk\")\n",
    "    \n",
    "    # serialize model to YAML\n",
    "    model_yaml = model.to_yaml()\n",
    "    with open(\"model.yaml\", \"w\") as yaml_file:\n",
    "        yaml_file.write(model_yaml)\n",
    "    # serialize weights to HDF5\n",
    "    model.save_weights(\"model_yaml.h5\")\n",
    "    print(\"Saved model to disk\")\n",
    "    \n",
    "    '''    \n",
    "    # load YAML and create model\n",
    "    yaml_file = open('model_json.yaml', 'r')\n",
    "    loaded_model_yaml = yaml_file.read()\n",
    "    yaml_file.close()\n",
    "    loaded_model = model_from_yaml(loaded_model_yaml)\n",
    "    # load weights into new model\n",
    "    loaded_model.load_weights(\"model_yaml.h5\")\n",
    "    print(\"Loaded model from disk\")\n",
    "    '''\n",
    "    return accuracy"
   ]
  },
  {
   "cell_type": "code",
   "execution_count": 6,
   "metadata": {},
   "outputs": [
    {
     "name": "stdout",
     "output_type": "stream",
     "text": [
      "Epoch 1/2\n",
      "56/56 [==============================] - 16s 287ms/sample - loss: 2.1667 - accuracy: 0.1429\n",
      "Epoch 2/2\n",
      "56/56 [==============================] - 17s 301ms/sample - loss: 2.0164 - accuracy: 0.2143\n",
      "7/7 [==============================] - 2s 262ms/sample - loss: 1.9379 - accuracy: 0.2857\n",
      "Saved model to disk\n",
      "Saved model to disk\n"
     ]
    },
    {
     "data": {
      "text/plain": [
       "0.2857143"
      ]
     },
     "execution_count": 6,
     "metadata": {},
     "output_type": "execute_result"
    }
   ],
   "source": [
    "evaluate_model(X_train, Y_train, X_test, Y_test)"
   ]
  },
  {
   "cell_type": "code",
   "execution_count": null,
   "metadata": {},
   "outputs": [],
   "source": []
  }
 ],
 "metadata": {
  "kernelspec": {
   "display_name": "Python 3",
   "language": "python",
   "name": "python3"
  },
  "language_info": {
   "codemirror_mode": {
    "name": "ipython",
    "version": 3
   },
   "file_extension": ".py",
   "mimetype": "text/x-python",
   "name": "python",
   "nbconvert_exporter": "python",
   "pygments_lexer": "ipython3",
   "version": "3.7.1"
  }
 },
 "nbformat": 4,
 "nbformat_minor": 2
}
