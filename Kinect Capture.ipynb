{
 "cells": [
  {
   "cell_type": "code",
   "execution_count": 110,
   "metadata": {},
   "outputs": [],
   "source": [
    "import numpy as np\n",
    "import pandas as pd\n",
    "import matplotlib.pyplot as plt\n",
    "import seaborn as sns\n",
    "%matplotlib inline\n",
    "import os"
   ]
  },
  {
   "cell_type": "code",
   "execution_count": 111,
   "metadata": {},
   "outputs": [],
   "source": [
    "path = 'emotional database/motion capture/'\n",
    "files = []\n",
    "# r=root, d=directories, f = files\n",
    "for r, d, f in os.walk(path):\n",
    "    for file in f:\n",
    "        if '.txt' in file:\n",
    "            files.append(os.path.join(r, file))"
   ]
  },
  {
   "cell_type": "code",
   "execution_count": 112,
   "metadata": {},
   "outputs": [
    {
     "data": {
      "text/html": [
       "<div>\n",
       "<style scoped>\n",
       "    .dataframe tbody tr th:only-of-type {\n",
       "        vertical-align: middle;\n",
       "    }\n",
       "\n",
       "    .dataframe tbody tr th {\n",
       "        vertical-align: top;\n",
       "    }\n",
       "\n",
       "    .dataframe thead th {\n",
       "        text-align: right;\n",
       "    }\n",
       "</style>\n",
       "<table border=\"1\" class=\"dataframe\">\n",
       "  <thead>\n",
       "    <tr style=\"text-align: right;\">\n",
       "      <th></th>\n",
       "      <th>gender</th>\n",
       "      <th>gender_no</th>\n",
       "      <th>output</th>\n",
       "      <th>expression_index</th>\n",
       "      <th>video_name</th>\n",
       "      <th>start_time_in_sec</th>\n",
       "      <th>end_time_in_sec</th>\n",
       "      <th>start_exp</th>\n",
       "      <th>end_exp</th>\n",
       "      <th>text_file</th>\n",
       "      <th>kinect_start_frame</th>\n",
       "      <th>kinect_end_frame</th>\n",
       "    </tr>\n",
       "  </thead>\n",
       "  <tbody>\n",
       "    <tr>\n",
       "      <th>1</th>\n",
       "      <td>F</td>\n",
       "      <td>3</td>\n",
       "      <td>An</td>\n",
       "      <td>1</td>\n",
       "      <td>927_0216_01.MP4</td>\n",
       "      <td>5.356700</td>\n",
       "      <td>9.481139</td>\n",
       "      <td>161</td>\n",
       "      <td>284</td>\n",
       "      <td>20170902_092359_00.txt</td>\n",
       "      <td>217</td>\n",
       "      <td>312</td>\n",
       "    </tr>\n",
       "    <tr>\n",
       "      <th>2</th>\n",
       "      <td>F</td>\n",
       "      <td>3</td>\n",
       "      <td>An</td>\n",
       "      <td>2</td>\n",
       "      <td>927_0216_01.MP4</td>\n",
       "      <td>9.883585</td>\n",
       "      <td>14.903150</td>\n",
       "      <td>296</td>\n",
       "      <td>447</td>\n",
       "      <td>20170902_092359_00.txt</td>\n",
       "      <td>322</td>\n",
       "      <td>466</td>\n",
       "    </tr>\n",
       "    <tr>\n",
       "      <th>3</th>\n",
       "      <td>F</td>\n",
       "      <td>3</td>\n",
       "      <td>An</td>\n",
       "      <td>3</td>\n",
       "      <td>927_0216_01.MP4</td>\n",
       "      <td>14.903150</td>\n",
       "      <td>19.427206</td>\n",
       "      <td>447</td>\n",
       "      <td>582</td>\n",
       "      <td>20170902_092359_00.txt</td>\n",
       "      <td>466</td>\n",
       "      <td>564</td>\n",
       "    </tr>\n",
       "    <tr>\n",
       "      <th>4</th>\n",
       "      <td>F</td>\n",
       "      <td>3</td>\n",
       "      <td>An</td>\n",
       "      <td>4</td>\n",
       "      <td>927_0216_01.MP4</td>\n",
       "      <td>19.427206</td>\n",
       "      <td>25.077029</td>\n",
       "      <td>582</td>\n",
       "      <td>752</td>\n",
       "      <td>20170902_092359_00.txt</td>\n",
       "      <td>564</td>\n",
       "      <td>699</td>\n",
       "    </tr>\n",
       "    <tr>\n",
       "      <th>5</th>\n",
       "      <td>F</td>\n",
       "      <td>3</td>\n",
       "      <td>An</td>\n",
       "      <td>5</td>\n",
       "      <td>927_0216_01.MP4</td>\n",
       "      <td>25.077029</td>\n",
       "      <td>29.981168</td>\n",
       "      <td>752</td>\n",
       "      <td>899</td>\n",
       "      <td>20170902_092359_00.txt</td>\n",
       "      <td>699</td>\n",
       "      <td>828</td>\n",
       "    </tr>\n",
       "  </tbody>\n",
       "</table>\n",
       "</div>"
      ],
      "text/plain": [
       "  gender  gender_no output  expression_index       video_name  \\\n",
       "1      F          3     An                 1  927_0216_01.MP4   \n",
       "2      F          3     An                 2  927_0216_01.MP4   \n",
       "3      F          3     An                 3  927_0216_01.MP4   \n",
       "4      F          3     An                 4  927_0216_01.MP4   \n",
       "5      F          3     An                 5  927_0216_01.MP4   \n",
       "\n",
       "   start_time_in_sec  end_time_in_sec  start_exp  end_exp  \\\n",
       "1           5.356700         9.481139        161      284   \n",
       "2           9.883585        14.903150        296      447   \n",
       "3          14.903150        19.427206        447      582   \n",
       "4          19.427206        25.077029        582      752   \n",
       "5          25.077029        29.981168        752      899   \n",
       "\n",
       "                text_file  kinect_start_frame  kinect_end_frame  \n",
       "1  20170902_092359_00.txt                 217               312  \n",
       "2  20170902_092359_00.txt                 322               466  \n",
       "3  20170902_092359_00.txt                 466               564  \n",
       "4  20170902_092359_00.txt                 564               699  \n",
       "5  20170902_092359_00.txt                 699               828  "
      ]
     },
     "execution_count": 112,
     "metadata": {},
     "output_type": "execute_result"
    }
   ],
   "source": [
    "descriptors = pd.read_csv('Descriptors.csv', index_col=0)\n",
    "descriptors.head()"
   ]
  },
  {
   "cell_type": "code",
   "execution_count": 124,
   "metadata": {},
   "outputs": [
    {
     "name": "stdout",
     "output_type": "stream",
     "text": [
      "20170902_115419_00.txt Ha 927_0282_01.MP4 F\n"
     ]
    }
   ],
   "source": [
    "df = pd.DataFrame()\n",
    "for file in files:\n",
    "    temp_df = pd.read_csv(file, sep=';')\n",
    "    textfile = file[34:]\n",
    "    \n",
    "    output_value = descriptors.loc[descriptors['text_file']==textfile]['output'][:1].values[0]\n",
    "    video_name = descriptors.loc[descriptors['text_file']==textfile]['video_name'][:1].values[0]\n",
    "    gender = descriptors.loc[descriptors['text_file']==textfile]['gender'][:1].values[0]\n",
    "    if textfile == '20170902_115419_00.txt':\n",
    "        print(textfile, output_value, video_name, gender)\n",
    "    #print(len(temp_df), textfile)\n",
    "    temp_df['textfile'] = textfile\n",
    "    temp_df['output'] = output_value\n",
    "    temp_df['video_name'] = video_name\n",
    "    temp_df['gender'] = gender\n",
    "    df = df.append(temp_df, sort=False)"
   ]
  },
  {
   "cell_type": "code",
   "execution_count": 125,
   "metadata": {},
   "outputs": [
    {
     "data": {
      "text/html": [
       "<div>\n",
       "<style scoped>\n",
       "    .dataframe tbody tr th:only-of-type {\n",
       "        vertical-align: middle;\n",
       "    }\n",
       "\n",
       "    .dataframe tbody tr th {\n",
       "        vertical-align: top;\n",
       "    }\n",
       "\n",
       "    .dataframe thead th {\n",
       "        text-align: right;\n",
       "    }\n",
       "</style>\n",
       "<table border=\"1\" class=\"dataframe\">\n",
       "  <thead>\n",
       "    <tr style=\"text-align: right;\">\n",
       "      <th></th>\n",
       "      <th>frameTime</th>\n",
       "      <th>bodyIndex</th>\n",
       "      <th>SpineBase_positionX</th>\n",
       "      <th>SpineBase_positionY</th>\n",
       "      <th>SpineBase_positionZ</th>\n",
       "      <th>SpineBase_rotationX</th>\n",
       "      <th>SpineBase_rotationY</th>\n",
       "      <th>SpineBase_rotationZ</th>\n",
       "      <th>SpineMid_positionX</th>\n",
       "      <th>SpineMid_positionY</th>\n",
       "      <th>...</th>\n",
       "      <th>ThumbRight_positionY</th>\n",
       "      <th>ThumbRight_positionZ</th>\n",
       "      <th>ThumbRight_rotationX</th>\n",
       "      <th>ThumbRight_rotationY</th>\n",
       "      <th>ThumbRight_rotationZ</th>\n",
       "      <th>Unnamed: 152</th>\n",
       "      <th>textfile</th>\n",
       "      <th>output</th>\n",
       "      <th>video_name</th>\n",
       "      <th>gender</th>\n",
       "    </tr>\n",
       "  </thead>\n",
       "  <tbody>\n",
       "    <tr>\n",
       "      <th>0</th>\n",
       "      <td>1234</td>\n",
       "      <td>0</td>\n",
       "      <td>0.062298</td>\n",
       "      <td>0.230842</td>\n",
       "      <td>2.540962</td>\n",
       "      <td>358.7676</td>\n",
       "      <td>180.1466</td>\n",
       "      <td>2.819737</td>\n",
       "      <td>0.077674</td>\n",
       "      <td>0.542595</td>\n",
       "      <td>...</td>\n",
       "      <td>1.357066</td>\n",
       "      <td>2.628572</td>\n",
       "      <td>0</td>\n",
       "      <td>0</td>\n",
       "      <td>0</td>\n",
       "      <td>NaN</td>\n",
       "      <td>20170902_085505_00.txt</td>\n",
       "      <td>Ne</td>\n",
       "      <td>927_0196_01.MP4</td>\n",
       "      <td>M</td>\n",
       "    </tr>\n",
       "    <tr>\n",
       "      <th>1</th>\n",
       "      <td>1266</td>\n",
       "      <td>0</td>\n",
       "      <td>0.069238</td>\n",
       "      <td>0.257058</td>\n",
       "      <td>2.526453</td>\n",
       "      <td>356.7902</td>\n",
       "      <td>179.9677</td>\n",
       "      <td>1.979240</td>\n",
       "      <td>0.079333</td>\n",
       "      <td>0.548986</td>\n",
       "      <td>...</td>\n",
       "      <td>1.338728</td>\n",
       "      <td>2.621750</td>\n",
       "      <td>0</td>\n",
       "      <td>0</td>\n",
       "      <td>0</td>\n",
       "      <td>NaN</td>\n",
       "      <td>20170902_085505_00.txt</td>\n",
       "      <td>Ne</td>\n",
       "      <td>927_0196_01.MP4</td>\n",
       "      <td>M</td>\n",
       "    </tr>\n",
       "    <tr>\n",
       "      <th>2</th>\n",
       "      <td>1334</td>\n",
       "      <td>0</td>\n",
       "      <td>0.084557</td>\n",
       "      <td>0.248516</td>\n",
       "      <td>2.483606</td>\n",
       "      <td>351.4843</td>\n",
       "      <td>183.0456</td>\n",
       "      <td>359.412200</td>\n",
       "      <td>0.083828</td>\n",
       "      <td>0.551884</td>\n",
       "      <td>...</td>\n",
       "      <td>1.339403</td>\n",
       "      <td>2.615883</td>\n",
       "      <td>0</td>\n",
       "      <td>0</td>\n",
       "      <td>0</td>\n",
       "      <td>NaN</td>\n",
       "      <td>20170902_085505_00.txt</td>\n",
       "      <td>Ne</td>\n",
       "      <td>927_0196_01.MP4</td>\n",
       "      <td>M</td>\n",
       "    </tr>\n",
       "    <tr>\n",
       "      <th>3</th>\n",
       "      <td>1366</td>\n",
       "      <td>0</td>\n",
       "      <td>0.084818</td>\n",
       "      <td>0.249397</td>\n",
       "      <td>2.483649</td>\n",
       "      <td>352.0697</td>\n",
       "      <td>182.5708</td>\n",
       "      <td>359.807800</td>\n",
       "      <td>0.085690</td>\n",
       "      <td>0.553738</td>\n",
       "      <td>...</td>\n",
       "      <td>1.418415</td>\n",
       "      <td>2.645500</td>\n",
       "      <td>0</td>\n",
       "      <td>0</td>\n",
       "      <td>0</td>\n",
       "      <td>NaN</td>\n",
       "      <td>20170902_085505_00.txt</td>\n",
       "      <td>Ne</td>\n",
       "      <td>927_0196_01.MP4</td>\n",
       "      <td>M</td>\n",
       "    </tr>\n",
       "    <tr>\n",
       "      <th>4</th>\n",
       "      <td>1399</td>\n",
       "      <td>0</td>\n",
       "      <td>0.085442</td>\n",
       "      <td>0.250219</td>\n",
       "      <td>2.483902</td>\n",
       "      <td>352.3281</td>\n",
       "      <td>182.3243</td>\n",
       "      <td>0.070354</td>\n",
       "      <td>0.087480</td>\n",
       "      <td>0.554349</td>\n",
       "      <td>...</td>\n",
       "      <td>1.373415</td>\n",
       "      <td>2.632500</td>\n",
       "      <td>0</td>\n",
       "      <td>0</td>\n",
       "      <td>0</td>\n",
       "      <td>NaN</td>\n",
       "      <td>20170902_085505_00.txt</td>\n",
       "      <td>Ne</td>\n",
       "      <td>927_0196_01.MP4</td>\n",
       "      <td>M</td>\n",
       "    </tr>\n",
       "  </tbody>\n",
       "</table>\n",
       "<p>5 rows × 157 columns</p>\n",
       "</div>"
      ],
      "text/plain": [
       "   frameTime  bodyIndex  SpineBase_positionX  SpineBase_positionY  \\\n",
       "0       1234          0             0.062298             0.230842   \n",
       "1       1266          0             0.069238             0.257058   \n",
       "2       1334          0             0.084557             0.248516   \n",
       "3       1366          0             0.084818             0.249397   \n",
       "4       1399          0             0.085442             0.250219   \n",
       "\n",
       "   SpineBase_positionZ  SpineBase_rotationX  SpineBase_rotationY  \\\n",
       "0             2.540962             358.7676             180.1466   \n",
       "1             2.526453             356.7902             179.9677   \n",
       "2             2.483606             351.4843             183.0456   \n",
       "3             2.483649             352.0697             182.5708   \n",
       "4             2.483902             352.3281             182.3243   \n",
       "\n",
       "   SpineBase_rotationZ  SpineMid_positionX  SpineMid_positionY   ...    \\\n",
       "0             2.819737            0.077674            0.542595   ...     \n",
       "1             1.979240            0.079333            0.548986   ...     \n",
       "2           359.412200            0.083828            0.551884   ...     \n",
       "3           359.807800            0.085690            0.553738   ...     \n",
       "4             0.070354            0.087480            0.554349   ...     \n",
       "\n",
       "   ThumbRight_positionY  ThumbRight_positionZ  ThumbRight_rotationX  \\\n",
       "0              1.357066              2.628572                     0   \n",
       "1              1.338728              2.621750                     0   \n",
       "2              1.339403              2.615883                     0   \n",
       "3              1.418415              2.645500                     0   \n",
       "4              1.373415              2.632500                     0   \n",
       "\n",
       "   ThumbRight_rotationY  ThumbRight_rotationZ  Unnamed: 152  \\\n",
       "0                     0                     0           NaN   \n",
       "1                     0                     0           NaN   \n",
       "2                     0                     0           NaN   \n",
       "3                     0                     0           NaN   \n",
       "4                     0                     0           NaN   \n",
       "\n",
       "                 textfile  output       video_name  gender  \n",
       "0  20170902_085505_00.txt      Ne  927_0196_01.MP4       M  \n",
       "1  20170902_085505_00.txt      Ne  927_0196_01.MP4       M  \n",
       "2  20170902_085505_00.txt      Ne  927_0196_01.MP4       M  \n",
       "3  20170902_085505_00.txt      Ne  927_0196_01.MP4       M  \n",
       "4  20170902_085505_00.txt      Ne  927_0196_01.MP4       M  \n",
       "\n",
       "[5 rows x 157 columns]"
      ]
     },
     "execution_count": 125,
     "metadata": {},
     "output_type": "execute_result"
    }
   ],
   "source": [
    "df.head()"
   ]
  },
  {
   "cell_type": "code",
   "execution_count": 126,
   "metadata": {},
   "outputs": [],
   "source": [
    "df.drop(columns=['Unnamed: 152'], inplace=True)"
   ]
  },
  {
   "cell_type": "code",
   "execution_count": 130,
   "metadata": {},
   "outputs": [],
   "source": [
    "df.to_csv('Motion_capture.csv')"
   ]
  },
  {
   "cell_type": "code",
   "execution_count": 131,
   "metadata": {},
   "outputs": [
    {
     "name": "stdout",
     "output_type": "stream",
     "text": [
      "<class 'pandas.core.frame.DataFrame'>\n",
      "Int64Index: 68101 entries, 0 to 1031\n",
      "Columns: 156 entries, frameTime to gender\n",
      "dtypes: float64(129), int64(23), object(4)\n",
      "memory usage: 81.6+ MB\n"
     ]
    }
   ],
   "source": [
    "df.info()"
   ]
  },
  {
   "cell_type": "code",
   "execution_count": 132,
   "metadata": {},
   "outputs": [
    {
     "data": {
      "text/plain": [
       "<matplotlib.axes._subplots.AxesSubplot at 0x29c8a9e24e0>"
      ]
     },
     "execution_count": 132,
     "metadata": {},
     "output_type": "execute_result"
    },
    {
     "data": {
      "image/png": "[encoded data removed]",
      "text/plain": [
       "<Figure size 432x288 with 1 Axes>"
      ]
     },
     "metadata": {
      "needs_background": "light"
     },
     "output_type": "display_data"
    }
   ],
   "source": [
    "sns.countplot(x=\"output\", data=df)"
   ]
  },
  {
   "cell_type": "code",
   "execution_count": 135,
   "metadata": {},
   "outputs": [
    {
     "data": {
      "image/png": "[encoded data removed]",
      "text/plain": [
       "<Figure size 432x288 with 1 Axes>"
      ]
     },
     "metadata": {
      "needs_background": "light"
     },
     "output_type": "display_data"
    }
   ],
   "source": [
    "sns.countplot(x=\"output\", hue=\"gender\", data=df)"
   ]
  },
  {
   "cell_type": "code",
   "execution_count": 136,
   "metadata": {},
   "outputs": [
    {
     "data": {
      "text/plain": [
       "<matplotlib.axes._subplots.AxesSubplot at 0x29c8b29e978>"
      ]
     },
     "execution_count": 136,
     "metadata": {},
     "output_type": "execute_result"
    },
    {
     "data": {
      "image/png": "[encoded data removed]",
      "text/plain": [
       "<Figure size 432x288 with 1 Axes>"
      ]
     },
     "metadata": {
      "needs_background": "light"
     },
     "output_type": "display_data"
    }
   ],
   "source": [
    "sns.countplot(x=\"gender\", data=df)"
   ]
  },
  {
   "cell_type": "code",
   "execution_count": null,
   "metadata": {},
   "outputs": [],
   "source": []
  }
 ],
 "metadata": {
  "kernelspec": {
   "display_name": "Python 3",
   "language": "python",
   "name": "python3"
  },
  "language_info": {
   "codemirror_mode": {
    "name": "ipython",
    "version": 3
   },
   "file_extension": ".py",
   "mimetype": "text/x-python",
   "name": "python",
   "nbconvert_exporter": "python",
   "pygments_lexer": "ipython3",
   "version": "3.7.1"
  }
 },
 "nbformat": 4,
 "nbformat_minor": 2
}
