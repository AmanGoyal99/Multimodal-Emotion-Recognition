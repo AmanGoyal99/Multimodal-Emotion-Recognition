{
 "cells": [
  {
   "cell_type": "code",
   "execution_count": 5,
   "metadata": {},
   "outputs": [],
   "source": [
    "import numpy as np\n",
    "import pandas as pd"
   ]
  },
  {
   "cell_type": "code",
   "execution_count": 6,
   "metadata": {},
   "outputs": [],
   "source": [
    "from tensorflow.keras.models import model_from_json"
   ]
  },
  {
   "cell_type": "code",
   "execution_count": 7,
   "metadata": {},
   "outputs": [],
   "source": [
    "json_file = open('model.json', 'r')\n",
    "loaded_model_json = json_file.read()\n",
    "json_file.close()\n",
    "loaded_model = model_from_json(loaded_model_json)"
   ]
  },
  {
   "cell_type": "code",
   "execution_count": 8,
   "metadata": {},
   "outputs": [
    {
     "name": "stdout",
     "output_type": "stream",
     "text": [
      "Loaded model from disk\n"
     ]
    }
   ],
   "source": [
    "# load weights into new model\n",
    "loaded_model.load_weights(\"model_json.h5\")\n",
    "print(\"Loaded model from disk\")"
   ]
  },
  {
   "cell_type": "code",
   "execution_count": 9,
   "metadata": {},
   "outputs": [
    {
     "name": "stdout",
     "output_type": "stream",
     "text": [
      "Model: \"sequential\"\n",
      "_________________________________________________________________\n",
      "Layer (type)                 Output Shape              Param #   \n",
      "=================================================================\n",
      "lstm (UnifiedLSTM)           (None, 128)               1232896   \n",
      "_________________________________________________________________\n",
      "dropout (Dropout)            (None, 128)               0         \n",
      "_________________________________________________________________\n",
      "dense (Dense)                (None, 128)               16512     \n",
      "_________________________________________________________________\n",
      "dense_1 (Dense)              (None, 64)                8256      \n",
      "_________________________________________________________________\n",
      "dense_2 (Dense)              (None, 7)                 455       \n",
      "=================================================================\n",
      "Total params: 1,258,119\n",
      "Trainable params: 1,258,119\n",
      "Non-trainable params: 0\n",
      "_________________________________________________________________\n"
     ]
    }
   ],
   "source": [
    "loaded_model.summary()"
   ]
  },
  {
   "cell_type": "code",
   "execution_count": 10,
   "metadata": {},
   "outputs": [
    {
     "name": "stdout",
     "output_type": "stream",
     "text": [
      "accuracy: 90.48%\n"
     ]
    }
   ],
   "source": [
    "X = np.load('X.npy')\n",
    "Y = np.load('Y.npy')\n",
    "\n",
    "loaded_model.compile(loss='categorical_crossentropy', optimizer = 'adam', metrics = ['accuracy'])\n",
    "\n",
    "score = loaded_model.evaluate(X, Y, verbose=0)\n",
    "print(\"%s: %.2f%%\" % (loaded_model.metrics_names[1], score[1]*100))"
   ]
  },
  {
   "cell_type": "code",
   "execution_count": 11,
   "metadata": {},
   "outputs": [
    {
     "name": "stdout",
     "output_type": "stream",
     "text": [
      "Model: \"sequential\"\n",
      "_________________________________________________________________\n",
      "Layer (type)                 Output Shape              Param #   \n",
      "=================================================================\n",
      "lstm (UnifiedLSTM)           (None, 128)               1232896   \n",
      "_________________________________________________________________\n",
      "dropout (Dropout)            (None, 128)               0         \n",
      "_________________________________________________________________\n",
      "dense (Dense)                (None, 128)               16512     \n",
      "_________________________________________________________________\n",
      "dense_1 (Dense)              (None, 64)                8256      \n",
      "_________________________________________________________________\n",
      "dense_2 (Dense)              (None, 7)                 455       \n",
      "=================================================================\n",
      "Total params: 1,258,119\n",
      "Trainable params: 1,258,119\n",
      "Non-trainable params: 0\n",
      "_________________________________________________________________\n"
     ]
    }
   ],
   "source": [
    "loaded_model.summary()"
   ]
  },
  {
   "cell_type": "code",
   "execution_count": 7,
   "metadata": {},
   "outputs": [
    {
     "data": {
      "text/html": [
       "<div>\n",
       "<style scoped>\n",
       "    .dataframe tbody tr th:only-of-type {\n",
       "        vertical-align: middle;\n",
       "    }\n",
       "\n",
       "    .dataframe tbody tr th {\n",
       "        vertical-align: top;\n",
       "    }\n",
       "\n",
       "    .dataframe thead th {\n",
       "        text-align: right;\n",
       "    }\n",
       "</style>\n",
       "<table border=\"1\" class=\"dataframe\">\n",
       "  <thead>\n",
       "    <tr style=\"text-align: right;\">\n",
       "      <th></th>\n",
       "      <th>gender</th>\n",
       "      <th>gender_no</th>\n",
       "      <th>output</th>\n",
       "      <th>expression_index</th>\n",
       "      <th>video_name</th>\n",
       "      <th>start_time_in_sec</th>\n",
       "      <th>end_time_in_sec</th>\n",
       "      <th>start_exp</th>\n",
       "      <th>end_exp</th>\n",
       "      <th>text_file</th>\n",
       "      <th>kinect_start_frame</th>\n",
       "      <th>kinect_end_frame</th>\n",
       "    </tr>\n",
       "  </thead>\n",
       "  <tbody>\n",
       "    <tr>\n",
       "      <th>1</th>\n",
       "      <td>F</td>\n",
       "      <td>3</td>\n",
       "      <td>An</td>\n",
       "      <td>1</td>\n",
       "      <td>927_0216_01.MP4</td>\n",
       "      <td>5.356700</td>\n",
       "      <td>9.481139</td>\n",
       "      <td>161</td>\n",
       "      <td>284</td>\n",
       "      <td>20170902_092359_00.txt</td>\n",
       "      <td>217</td>\n",
       "      <td>312</td>\n",
       "    </tr>\n",
       "    <tr>\n",
       "      <th>2</th>\n",
       "      <td>F</td>\n",
       "      <td>3</td>\n",
       "      <td>An</td>\n",
       "      <td>2</td>\n",
       "      <td>927_0216_01.MP4</td>\n",
       "      <td>9.883585</td>\n",
       "      <td>14.903150</td>\n",
       "      <td>296</td>\n",
       "      <td>447</td>\n",
       "      <td>20170902_092359_00.txt</td>\n",
       "      <td>322</td>\n",
       "      <td>466</td>\n",
       "    </tr>\n",
       "    <tr>\n",
       "      <th>3</th>\n",
       "      <td>F</td>\n",
       "      <td>3</td>\n",
       "      <td>An</td>\n",
       "      <td>3</td>\n",
       "      <td>927_0216_01.MP4</td>\n",
       "      <td>14.903150</td>\n",
       "      <td>19.427206</td>\n",
       "      <td>447</td>\n",
       "      <td>582</td>\n",
       "      <td>20170902_092359_00.txt</td>\n",
       "      <td>466</td>\n",
       "      <td>564</td>\n",
       "    </tr>\n",
       "    <tr>\n",
       "      <th>4</th>\n",
       "      <td>F</td>\n",
       "      <td>3</td>\n",
       "      <td>An</td>\n",
       "      <td>4</td>\n",
       "      <td>927_0216_01.MP4</td>\n",
       "      <td>19.427206</td>\n",
       "      <td>25.077029</td>\n",
       "      <td>582</td>\n",
       "      <td>752</td>\n",
       "      <td>20170902_092359_00.txt</td>\n",
       "      <td>564</td>\n",
       "      <td>699</td>\n",
       "    </tr>\n",
       "    <tr>\n",
       "      <th>5</th>\n",
       "      <td>F</td>\n",
       "      <td>3</td>\n",
       "      <td>An</td>\n",
       "      <td>5</td>\n",
       "      <td>927_0216_01.MP4</td>\n",
       "      <td>25.077029</td>\n",
       "      <td>29.981168</td>\n",
       "      <td>752</td>\n",
       "      <td>899</td>\n",
       "      <td>20170902_092359_00.txt</td>\n",
       "      <td>699</td>\n",
       "      <td>828</td>\n",
       "    </tr>\n",
       "  </tbody>\n",
       "</table>\n",
       "</div>"
      ],
      "text/plain": [
       "  gender  gender_no output  expression_index       video_name  \\\n",
       "1      F          3     An                 1  927_0216_01.MP4   \n",
       "2      F          3     An                 2  927_0216_01.MP4   \n",
       "3      F          3     An                 3  927_0216_01.MP4   \n",
       "4      F          3     An                 4  927_0216_01.MP4   \n",
       "5      F          3     An                 5  927_0216_01.MP4   \n",
       "\n",
       "   start_time_in_sec  end_time_in_sec  start_exp  end_exp  \\\n",
       "1           5.356700         9.481139        161      284   \n",
       "2           9.883585        14.903150        296      447   \n",
       "3          14.903150        19.427206        447      582   \n",
       "4          19.427206        25.077029        582      752   \n",
       "5          25.077029        29.981168        752      899   \n",
       "\n",
       "                text_file  kinect_start_frame  kinect_end_frame  \n",
       "1  20170902_092359_00.txt                 217               312  \n",
       "2  20170902_092359_00.txt                 322               466  \n",
       "3  20170902_092359_00.txt                 466               564  \n",
       "4  20170902_092359_00.txt                 564               699  \n",
       "5  20170902_092359_00.txt                 699               828  "
      ]
     },
     "execution_count": 7,
     "metadata": {},
     "output_type": "execute_result"
    }
   ],
   "source": [
    "descriptors = pd.read_csv('Descriptors.csv', index_col = 0)\n",
    "descriptors.head()"
   ]
  },
  {
   "cell_type": "code",
   "execution_count": 16,
   "metadata": {},
   "outputs": [],
   "source": [
    "filename = 'Final/927_0216_01.csv'\n",
    "\n",
    "def load_file(file):\n",
    "    temp_df = pd.read_csv(file, sep=',')\n",
    "    video_name = filename.split('/')[1].split('.')[0] +'.MP4'\n",
    "    #output_value = descriptors.loc[descriptors['video_name']==name +'.MP4']['output'][:1].values[0]\n",
    "    gender = descriptors.loc[descriptors['video_name']==video_name]['gender'][:1].values[0]\n",
    "    if gender == 'F':\n",
    "        temp_df['gender'] = 1\n",
    "    else:\n",
    "        temp_df['gender'] = 0\n",
    "    #temp_df.drop(['Unnamed: 152'], axis=1, inplace=True)\n",
    "    return temp_df.values\n",
    "\n",
    "my_data = load_file(filename)"
   ]
  },
  {
   "cell_type": "code",
   "execution_count": 17,
   "metadata": {},
   "outputs": [
    {
     "name": "stdout",
     "output_type": "stream",
     "text": [
      "(952, 2279)\n"
     ]
    }
   ],
   "source": [
    "def load_group(file):\n",
    "    data = load_file(file)\n",
    "    zeros_data = np.zeros((1864-data.shape[0], 2279))\n",
    "    print(data.shape)\n",
    "    data = np.concatenate((zeros_data, data), axis=0)\n",
    "    #print('Now the shape is:', name, data.shape)\n",
    "    return data\n",
    "\n",
    "file = load_group(filename)"
   ]
  },
  {
   "cell_type": "code",
   "execution_count": 18,
   "metadata": {},
   "outputs": [
    {
     "data": {
      "text/plain": [
       "(1864, 2279)"
      ]
     },
     "execution_count": 18,
     "metadata": {},
     "output_type": "execute_result"
    }
   ],
   "source": [
    "file.shape"
   ]
  },
  {
   "cell_type": "code",
   "execution_count": 19,
   "metadata": {},
   "outputs": [],
   "source": [
    "file = file.reshape((1, 1864, 2279))"
   ]
  },
  {
   "cell_type": "code",
   "execution_count": 20,
   "metadata": {},
   "outputs": [
    {
     "data": {
      "text/plain": [
       "array([[[ 0.        ,  0.        ,  0.        , ...,  0.        ,\n",
       "          0.        ,  0.        ],\n",
       "        [ 0.        ,  0.        ,  0.        , ...,  0.        ,\n",
       "          0.        ,  0.        ],\n",
       "        [ 0.        ,  0.        ,  0.        , ...,  0.        ,\n",
       "          0.        ,  0.        ],\n",
       "        ...,\n",
       "        [28.63564213, 57.48912941, 85.86617495, ..., 19.23538406,\n",
       "         10.04987562,  1.        ],\n",
       "        [30.41381265, 60.01666435, 89.82204629, ..., 28.0713377 ,\n",
       "         14.03566885,  1.        ],\n",
       "        [30.06659276, 59.41380311, 88.68483523, ..., 25.01999201,\n",
       "         12.        ,  1.        ]]])"
      ]
     },
     "execution_count": 20,
     "metadata": {},
     "output_type": "execute_result"
    }
   ],
   "source": [
    "file"
   ]
  },
  {
   "cell_type": "code",
   "execution_count": 21,
   "metadata": {},
   "outputs": [],
   "source": [
    "#my.data.reshape((792, 2278))\n",
    "result = loaded_model.predict(file)"
   ]
  },
  {
   "cell_type": "code",
   "execution_count": 27,
   "metadata": {},
   "outputs": [
    {
     "data": {
      "text/plain": [
       "0"
      ]
     },
     "execution_count": 27,
     "metadata": {},
     "output_type": "execute_result"
    }
   ],
   "source": [
    "np.argmax(result)"
   ]
  },
  {
   "cell_type": "code",
   "execution_count": 28,
   "metadata": {},
   "outputs": [
    {
     "data": {
      "text/plain": [
       "(array([0], dtype=int64), array([0], dtype=int64))"
      ]
     },
     "execution_count": 28,
     "metadata": {},
     "output_type": "execute_result"
    }
   ],
   "source": [
    "np.where(result == np.amax(result))"
   ]
  },
  {
   "cell_type": "code",
   "execution_count": 29,
   "metadata": {},
   "outputs": [
    {
     "data": {
      "text/plain": [
       "(array([0], dtype=int64), array([0], dtype=int64))"
      ]
     },
     "execution_count": 29,
     "metadata": {},
     "output_type": "execute_result"
    }
   ],
   "source": [
    "index"
   ]
  },
  {
   "cell_type": "code",
   "execution_count": 30,
   "metadata": {},
   "outputs": [
    {
     "name": "stdout",
     "output_type": "stream",
     "text": [
      "Ne\n"
     ]
    }
   ],
   "source": [
    "index = index[0]\n",
    "element = 0\n",
    "if index == 0:\n",
    "    element = 'Ne'\n",
    "elif index == 1:\n",
    "    element = 'Sa' \n",
    "elif index == 2:\n",
    "    element = 'Su' \n",
    "elif index == 3:\n",
    "    element = 'Fe' \n",
    "elif index == 4:\n",
    "    element = 'An' \n",
    "elif index == 5:\n",
    "    element = 'Di'\n",
    "elif index == 6:\n",
    "    element = 'Ha' \n",
    "print(element)"
   ]
  }
 ],
 "metadata": {
  "kernelspec": {
   "display_name": "Python 3",
   "language": "python",
   "name": "python3"
  },
  "language_info": {
   "codemirror_mode": {
    "name": "ipython",
    "version": 3
   },
   "file_extension": ".py",
   "mimetype": "text/x-python",
   "name": "python",
   "nbconvert_exporter": "python",
   "pygments_lexer": "ipython3",
   "version": "3.7.1"
  }
 },
 "nbformat": 4,
 "nbformat_minor": 2
}
