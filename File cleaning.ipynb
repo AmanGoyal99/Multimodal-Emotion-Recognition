{
 "cells": [
  {
   "cell_type": "code",
   "execution_count": 1,
   "metadata": {},
   "outputs": [],
   "source": [
    "import numpy as np\n",
    "import pandas as pd\n",
    "import matplotlib.pyplot as plt\n",
    "import seaborn as sns"
   ]
  },
  {
   "cell_type": "code",
   "execution_count": 17,
   "metadata": {},
   "outputs": [],
   "source": [
    "def clean(link):\n",
    "    string = link\n",
    "    b = np.load(link)\n",
    "    #print(b.shape)\n",
    "    temp = []\n",
    "    for a in b:\n",
    "        try:\n",
    "            temp.append(a.tolist())\n",
    "        except AttributeError:\n",
    "            print('', end = '')\n",
    "    len(temp)\n",
    "    df = np.asarray(temp)\n",
    "    #print(df.shape)\n",
    "    file_name = link.split('.')[0]\n",
    "    #print(file_name)\n",
    "    np.savetxt(file_name+'.csv', df, delimiter=',')"
   ]
  },
  {
   "cell_type": "code",
   "execution_count": 18,
   "metadata": {},
   "outputs": [
    {
     "name": "stdout",
     "output_type": "stream",
     "text": [
      "927_0227_01.npy\n",
      "927_0228_01.npy\n",
      "927_0229_01.npy\n",
      "927_0230_01.npy\n",
      "927_0231_01.npy\n",
      "927_0232_01.npy\n",
      "927_0233_01.npy\n",
      "927_0234_01.npy\n",
      "927_0235_01.npy\n",
      "927_0236_01.npy\n"
     ]
    }
   ],
   "source": [
    "import os\n",
    "l = os.listdir()\n",
    "temp = []\n",
    "for element in l:\n",
    "    if '.npy' in element:\n",
    "        temp.append(element)\n",
    "        print(element)"
   ]
  },
  {
   "cell_type": "code",
   "execution_count": 19,
   "metadata": {},
   "outputs": [],
   "source": [
    "for element in temp:\n",
    "    clean(element)"
   ]
  },
  {
   "cell_type": "code",
   "execution_count": 20,
   "metadata": {},
   "outputs": [
    {
     "data": {
      "text/html": [
       "<div>\n",
       "<style scoped>\n",
       "    .dataframe tbody tr th:only-of-type {\n",
       "        vertical-align: middle;\n",
       "    }\n",
       "\n",
       "    .dataframe tbody tr th {\n",
       "        vertical-align: top;\n",
       "    }\n",
       "\n",
       "    .dataframe thead th {\n",
       "        text-align: right;\n",
       "    }\n",
       "</style>\n",
       "<table border=\"1\" class=\"dataframe\">\n",
       "  <thead>\n",
       "    <tr style=\"text-align: right;\">\n",
       "      <th></th>\n",
       "      <th>gender</th>\n",
       "      <th>gender_no</th>\n",
       "      <th>output</th>\n",
       "      <th>expression_index</th>\n",
       "      <th>video_name</th>\n",
       "      <th>start_time_in_sec</th>\n",
       "      <th>end_time_in_sec</th>\n",
       "      <th>start_exp</th>\n",
       "      <th>end_exp</th>\n",
       "      <th>text_file</th>\n",
       "      <th>kinect_start_frame</th>\n",
       "      <th>kinect_end_frame</th>\n",
       "    </tr>\n",
       "  </thead>\n",
       "  <tbody>\n",
       "    <tr>\n",
       "      <th>1</th>\n",
       "      <td>F</td>\n",
       "      <td>3</td>\n",
       "      <td>An</td>\n",
       "      <td>1</td>\n",
       "      <td>927_0216_01.MP4</td>\n",
       "      <td>5.356700</td>\n",
       "      <td>9.481139</td>\n",
       "      <td>161</td>\n",
       "      <td>284</td>\n",
       "      <td>20170902_092359_00.txt</td>\n",
       "      <td>217</td>\n",
       "      <td>312</td>\n",
       "    </tr>\n",
       "    <tr>\n",
       "      <th>2</th>\n",
       "      <td>F</td>\n",
       "      <td>3</td>\n",
       "      <td>An</td>\n",
       "      <td>2</td>\n",
       "      <td>927_0216_01.MP4</td>\n",
       "      <td>9.883585</td>\n",
       "      <td>14.903150</td>\n",
       "      <td>296</td>\n",
       "      <td>447</td>\n",
       "      <td>20170902_092359_00.txt</td>\n",
       "      <td>322</td>\n",
       "      <td>466</td>\n",
       "    </tr>\n",
       "    <tr>\n",
       "      <th>3</th>\n",
       "      <td>F</td>\n",
       "      <td>3</td>\n",
       "      <td>An</td>\n",
       "      <td>3</td>\n",
       "      <td>927_0216_01.MP4</td>\n",
       "      <td>14.903150</td>\n",
       "      <td>19.427206</td>\n",
       "      <td>447</td>\n",
       "      <td>582</td>\n",
       "      <td>20170902_092359_00.txt</td>\n",
       "      <td>466</td>\n",
       "      <td>564</td>\n",
       "    </tr>\n",
       "    <tr>\n",
       "      <th>4</th>\n",
       "      <td>F</td>\n",
       "      <td>3</td>\n",
       "      <td>An</td>\n",
       "      <td>4</td>\n",
       "      <td>927_0216_01.MP4</td>\n",
       "      <td>19.427206</td>\n",
       "      <td>25.077029</td>\n",
       "      <td>582</td>\n",
       "      <td>752</td>\n",
       "      <td>20170902_092359_00.txt</td>\n",
       "      <td>564</td>\n",
       "      <td>699</td>\n",
       "    </tr>\n",
       "    <tr>\n",
       "      <th>5</th>\n",
       "      <td>F</td>\n",
       "      <td>3</td>\n",
       "      <td>An</td>\n",
       "      <td>5</td>\n",
       "      <td>927_0216_01.MP4</td>\n",
       "      <td>25.077029</td>\n",
       "      <td>29.981168</td>\n",
       "      <td>752</td>\n",
       "      <td>899</td>\n",
       "      <td>20170902_092359_00.txt</td>\n",
       "      <td>699</td>\n",
       "      <td>828</td>\n",
       "    </tr>\n",
       "  </tbody>\n",
       "</table>\n",
       "</div>"
      ],
      "text/plain": [
       "  gender  gender_no output  expression_index       video_name  \\\n",
       "1      F          3     An                 1  927_0216_01.MP4   \n",
       "2      F          3     An                 2  927_0216_01.MP4   \n",
       "3      F          3     An                 3  927_0216_01.MP4   \n",
       "4      F          3     An                 4  927_0216_01.MP4   \n",
       "5      F          3     An                 5  927_0216_01.MP4   \n",
       "\n",
       "   start_time_in_sec  end_time_in_sec  start_exp  end_exp  \\\n",
       "1           5.356700         9.481139        161      284   \n",
       "2           9.883585        14.903150        296      447   \n",
       "3          14.903150        19.427206        447      582   \n",
       "4          19.427206        25.077029        582      752   \n",
       "5          25.077029        29.981168        752      899   \n",
       "\n",
       "                text_file  kinect_start_frame  kinect_end_frame  \n",
       "1  20170902_092359_00.txt                 217               312  \n",
       "2  20170902_092359_00.txt                 322               466  \n",
       "3  20170902_092359_00.txt                 466               564  \n",
       "4  20170902_092359_00.txt                 564               699  \n",
       "5  20170902_092359_00.txt                 699               828  "
      ]
     },
     "execution_count": 20,
     "metadata": {},
     "output_type": "execute_result"
    }
   ],
   "source": [
    "descriptors = pd.read_csv('Descriptors.csv', index_col=0)\n",
    "descriptors.head()"
   ]
  },
  {
   "cell_type": "code",
   "execution_count": 21,
   "metadata": {},
   "outputs": [],
   "source": [
    "path = 'emotional database/motion capture/'\n",
    "files = []\n",
    "# r=root, d=directories, f = files\n",
    "for r, d, f in os.walk(path):\n",
    "    for file in f:\n",
    "        if '.txt' in file:\n",
    "            files.append(os.path.join(r, file))"
   ]
  },
  {
   "cell_type": "code",
   "execution_count": null,
   "metadata": {},
   "outputs": [],
   "source": []
  }
 ],
 "metadata": {
  "kernelspec": {
   "display_name": "Python 3",
   "language": "python",
   "name": "python3"
  },
  "language_info": {
   "codemirror_mode": {
    "name": "ipython",
    "version": 3
   },
   "file_extension": ".py",
   "mimetype": "text/x-python",
   "name": "python",
   "nbconvert_exporter": "python",
   "pygments_lexer": "ipython3",
   "version": "3.7.1"
  }
 },
 "nbformat": 4,
 "nbformat_minor": 2
}
