{
 "cells": [
  {
   "cell_type": "code",
   "execution_count": 13,
   "metadata": {},
   "outputs": [],
   "source": [
    "import numpy as np\n",
    "import pandas as pd\n",
    "import matplotlib.pyplot as plt\n",
    "import seaborn as sns\n",
    "import os\n",
    "import cv2\n",
    "%matplotlib inline"
   ]
  },
  {
   "cell_type": "code",
   "execution_count": 14,
   "metadata": {},
   "outputs": [],
   "source": [
    "path = 'emotional database/videos/'"
   ]
  },
  {
   "cell_type": "code",
   "execution_count": 15,
   "metadata": {},
   "outputs": [],
   "source": [
    "files = []\n",
    "# r=root, d=directories, f = files\n",
    "for r, d, f in os.walk(path):\n",
    "    for file in f:\n",
    "        files.append(os.path.join(r, file))"
   ]
  },
  {
   "cell_type": "code",
   "execution_count": 11,
   "metadata": {},
   "outputs": [
    {
     "name": "stdout",
     "output_type": "stream",
     "text": [
      "Creating...927_0282_01.MP4_0.jpg\n",
      "Creating...927_0282_01.MP4_1.jpg\n",
      "Creating...927_0282_01.MP4_2.jpg\n",
      "Creating...927_0282_01.MP4_3.jpg\n",
      "Creating...927_0282_01.MP4_4.jpg\n",
      "Creating...927_0282_01.MP4_5.jpg\n",
      "Creating...927_0282_01.MP4_6.jpg\n",
      "Creating...927_0282_01.MP4_7.jpg\n",
      "Creating...927_0282_01.MP4_8.jpg\n",
      "Creating...927_0282_01.MP4_9.jpg\n",
      "Creating...927_0282_01.MP4_10.jpg\n",
      "Creating...927_0282_01.MP4_11.jpg\n",
      "Creating...927_0282_01.MP4_12.jpg\n",
      "Creating...927_0282_01.MP4_13.jpg\n",
      "Creating...927_0282_01.MP4_14.jpg\n",
      "Creating...927_0282_01.MP4_15.jpg\n",
      "Creating...927_0282_01.MP4_16.jpg\n",
      "Creating...927_0282_01.MP4_17.jpg\n",
      "Creating...927_0282_01.MP4_18.jpg\n",
      "Creating...927_0282_01.MP4_19.jpg\n",
      "Creating...927_0282_01.MP4_20.jpg\n",
      "Creating...927_0282_01.MP4_21.jpg\n",
      "Creating...927_0282_01.MP4_22.jpg\n",
      "Creating...927_0282_01.MP4_23.jpg\n",
      "Creating...927_0282_01.MP4_24.jpg\n",
      "Creating...927_0282_01.MP4_25.jpg\n",
      "Creating...927_0282_01.MP4_26.jpg\n",
      "Creating...927_0282_01.MP4_27.jpg\n",
      "Creating...927_0282_01.MP4_28.jpg\n",
      "Creating...927_0282_01.MP4_29.jpg\n",
      "Creating...927_0282_01.MP4_30.jpg\n",
      "Creating...927_0282_01.MP4_31.jpg\n",
      "Creating...927_0282_01.MP4_32.jpg\n",
      "Creating...927_0282_01.MP4_33.jpg\n",
      "Creating...927_0282_01.MP4_34.jpg\n",
      "Creating...927_0282_01.MP4_35.jpg\n",
      "Creating...927_0282_01.MP4_36.jpg\n",
      "Creating...927_0282_01.MP4_37.jpg\n",
      "Creating...927_0282_01.MP4_38.jpg\n",
      "Creating...927_0282_01.MP4_39.jpg\n",
      "Creating...927_0282_01.MP4_40.jpg\n",
      "Creating...927_0282_01.MP4_41.jpg\n",
      "Creating...927_0282_01.MP4_42.jpg\n",
      "Creating...927_0282_01.MP4_43.jpg\n",
      "Creating...927_0282_01.MP4_44.jpg\n",
      "Creating...927_0282_01.MP4_45.jpg\n",
      "Creating...927_0282_01.MP4_46.jpg\n",
      "Creating...927_0282_01.MP4_47.jpg\n",
      "Creating...927_0282_01.MP4_48.jpg\n",
      "Creating...927_0282_01.MP4_49.jpg\n",
      "Creating...927_0282_01.MP4_50.jpg\n",
      "Creating...927_0282_01.MP4_51.jpg\n",
      "Creating...927_0282_01.MP4_52.jpg\n",
      "Creating...927_0282_01.MP4_53.jpg\n",
      "Creating...927_0282_01.MP4_54.jpg\n",
      "Creating...927_0282_01.MP4_55.jpg\n",
      "Creating...927_0282_01.MP4_56.jpg\n",
      "Creating...927_0282_01.MP4_57.jpg\n",
      "Creating...927_0282_01.MP4_58.jpg\n",
      "Creating...927_0282_01.MP4_59.jpg\n",
      "Creating...927_0282_01.MP4_60.jpg\n",
      "Creating...927_0282_01.MP4_61.jpg\n",
      "Creating...927_0282_01.MP4_62.jpg\n",
      "Creating...927_0282_01.MP4_63.jpg\n",
      "Creating...927_0282_01.MP4_64.jpg\n",
      "Creating...927_0282_01.MP4_65.jpg\n"
     ]
    },
    {
     "ename": "KeyboardInterrupt",
     "evalue": "",
     "output_type": "error",
     "traceback": [
      "\u001b[1;31m---------------------------------------------------------------------------\u001b[0m",
      "\u001b[1;31mKeyboardInterrupt\u001b[0m                         Traceback (most recent call last)",
      "\u001b[1;32m<ipython-input-11-087a03022f1f>\u001b[0m in \u001b[0;36m<module>\u001b[1;34m\u001b[0m\n\u001b[0;32m     22\u001b[0m     \u001b[0mprint\u001b[0m \u001b[1;33m(\u001b[0m\u001b[1;34m'Creating...'\u001b[0m \u001b[1;33m+\u001b[0m \u001b[0mname\u001b[0m\u001b[1;33m)\u001b[0m\u001b[1;33m\u001b[0m\u001b[1;33m\u001b[0m\u001b[0m\n\u001b[0;32m     23\u001b[0m         \u001b[1;31m# writing the extracted images\u001b[0m\u001b[1;33m\u001b[0m\u001b[1;33m\u001b[0m\u001b[1;33m\u001b[0m\u001b[0m\n\u001b[1;32m---> 24\u001b[1;33m     \u001b[0mcv2\u001b[0m\u001b[1;33m.\u001b[0m\u001b[0mimwrite\u001b[0m\u001b[1;33m(\u001b[0m\u001b[0mname\u001b[0m\u001b[1;33m,\u001b[0m \u001b[0mframe\u001b[0m\u001b[1;33m)\u001b[0m\u001b[1;33m\u001b[0m\u001b[1;33m\u001b[0m\u001b[0m\n\u001b[0m\u001b[0;32m     25\u001b[0m     \u001b[1;32mif\u001b[0m \u001b[0mcv2\u001b[0m\u001b[1;33m.\u001b[0m\u001b[0mwaitKey\u001b[0m\u001b[1;33m(\u001b[0m\u001b[1;36m10\u001b[0m\u001b[1;33m)\u001b[0m \u001b[1;33m==\u001b[0m \u001b[1;36m27\u001b[0m\u001b[1;33m:\u001b[0m\u001b[1;33m\u001b[0m\u001b[1;33m\u001b[0m\u001b[0m\n\u001b[0;32m     26\u001b[0m             \u001b[1;32mbreak\u001b[0m\u001b[1;33m\u001b[0m\u001b[1;33m\u001b[0m\u001b[0m\n",
      "\u001b[1;31mKeyboardInterrupt\u001b[0m: "
     ]
    }
   ],
   "source": [
    "filename = 'emotional database/videos/927_0282_01.MP4'\n",
    "cap = cv2.VideoCapture(filename)\n",
    "success,image = cap.read()\n",
    "count = 0\n",
    "try:\n",
    "    # creating a folder named data \n",
    "    if not os.path.exists('data'): \n",
    "        os.makedirs('data')  \n",
    "#if not created then raise error \n",
    "except OSError: \n",
    "    print ('Error: Creating directory of data') \n",
    "      \n",
    "currentframe = 0\n",
    "  \n",
    "while success:       \n",
    "    # reading from frame \n",
    "    success,frame = cap.read() \n",
    "    # if video is still left continue creating images \n",
    "    name = filename[26:] + '_' + str(currentframe) + '.jpg'\n",
    "    print ('Creating...' + name)  \n",
    "        # writing the extracted images \n",
    "    cv2.imwrite(name, frame) \n",
    "    if cv2.waitKey(10) == 27:\n",
    "            break\n",
    "        # increasing counter so that it will \n",
    "        # show how many frames are created \n",
    "    currentframe += 1"
   ]
  },
  {
   "cell_type": "code",
   "execution_count": 15,
   "metadata": {},
   "outputs": [
    {
     "name": "stdout",
     "output_type": "stream",
     "text": [
      "1127\n"
     ]
    }
   ],
   "source": [
    "cap = cv2.VideoCapture(\"emotional database/videos/927_0282_01.MP4\")\n",
    "length = int(cap.get(cv2.CAP_PROP_FRAME_COUNT))\n",
    "print(length)"
   ]
  },
  {
   "cell_type": "code",
   "execution_count": 9,
   "metadata": {},
   "outputs": [
    {
     "data": {
      "text/plain": [
       "'927_0282_01.MP4'"
      ]
     },
     "execution_count": 9,
     "metadata": {},
     "output_type": "execute_result"
    }
   ],
   "source": [
    "filename = 'emotional database/videos/927_0282_01.MP4'\n",
    "filename[26:]"
   ]
  },
  {
   "cell_type": "code",
   "execution_count": 23,
   "metadata": {},
   "outputs": [
    {
     "ename": "KeyboardInterrupt",
     "evalue": "",
     "output_type": "error",
     "traceback": [
      "\u001b[1;31m---------------------------------------------------------------------------\u001b[0m",
      "\u001b[1;31mKeyboardInterrupt\u001b[0m                         Traceback (most recent call last)",
      "\u001b[1;32m<ipython-input-23-5e2766e5325a>\u001b[0m in \u001b[0;36m<module>\u001b[1;34m\u001b[0m\n\u001b[0;32m     14\u001b[0m     \u001b[0mvidcap\u001b[0m\u001b[1;33m.\u001b[0m\u001b[0mrelease\u001b[0m\u001b[1;33m(\u001b[0m\u001b[1;33m)\u001b[0m\u001b[1;33m\u001b[0m\u001b[1;33m\u001b[0m\u001b[0m\n\u001b[0;32m     15\u001b[0m \u001b[1;33m\u001b[0m\u001b[0m\n\u001b[1;32m---> 16\u001b[1;33m \u001b[0mvideo_to_frames\u001b[0m\u001b[1;33m(\u001b[0m\u001b[1;34m'emotional database/videos/927_0282_01.MP4'\u001b[0m\u001b[1;33m,\u001b[0m \u001b[1;34m'data/'\u001b[0m\u001b[1;33m)\u001b[0m\u001b[1;33m\u001b[0m\u001b[1;33m\u001b[0m\u001b[0m\n\u001b[0m",
      "\u001b[1;32m<ipython-input-23-5e2766e5325a>\u001b[0m in \u001b[0;36mvideo_to_frames\u001b[1;34m(video, path_output_dir)\u001b[0m\n\u001b[0;32m      7\u001b[0m         \u001b[0msuccess\u001b[0m\u001b[1;33m,\u001b[0m \u001b[0mimage\u001b[0m \u001b[1;33m=\u001b[0m \u001b[0mvidcap\u001b[0m\u001b[1;33m.\u001b[0m\u001b[0mread\u001b[0m\u001b[1;33m(\u001b[0m\u001b[1;33m)\u001b[0m\u001b[1;33m\u001b[0m\u001b[1;33m\u001b[0m\u001b[0m\n\u001b[0;32m      8\u001b[0m         \u001b[1;32mif\u001b[0m \u001b[0msuccess\u001b[0m\u001b[1;33m:\u001b[0m\u001b[1;33m\u001b[0m\u001b[1;33m\u001b[0m\u001b[0m\n\u001b[1;32m----> 9\u001b[1;33m             \u001b[0mcv2\u001b[0m\u001b[1;33m.\u001b[0m\u001b[0mimwrite\u001b[0m\u001b[1;33m(\u001b[0m\u001b[0mos\u001b[0m\u001b[1;33m.\u001b[0m\u001b[0mpath\u001b[0m\u001b[1;33m.\u001b[0m\u001b[0mjoin\u001b[0m\u001b[1;33m(\u001b[0m\u001b[0mpath_output_dir\u001b[0m\u001b[1;33m,\u001b[0m \u001b[1;34m'%d.png'\u001b[0m\u001b[1;33m)\u001b[0m \u001b[1;33m%\u001b[0m \u001b[0mcount\u001b[0m\u001b[1;33m,\u001b[0m \u001b[0mimage\u001b[0m\u001b[1;33m)\u001b[0m\u001b[1;33m\u001b[0m\u001b[1;33m\u001b[0m\u001b[0m\n\u001b[0m\u001b[0;32m     10\u001b[0m             \u001b[0mcount\u001b[0m \u001b[1;33m+=\u001b[0m \u001b[1;36m1\u001b[0m\u001b[1;33m\u001b[0m\u001b[1;33m\u001b[0m\u001b[0m\n\u001b[0;32m     11\u001b[0m         \u001b[1;32melse\u001b[0m\u001b[1;33m:\u001b[0m\u001b[1;33m\u001b[0m\u001b[1;33m\u001b[0m\u001b[0m\n",
      "\u001b[1;31mKeyboardInterrupt\u001b[0m: "
     ]
    }
   ],
   "source": [
    "def video_to_frames(video, path_output_dir):\n",
    "    # extract frames from a video and save to directory as 'x.png' where \n",
    "    # x is the frame index\n",
    "    vidcap = cv2.VideoCapture(video)\n",
    "    count = 0\n",
    "    while vidcap.isOpened():\n",
    "        success, image = vidcap.read()\n",
    "        if success:\n",
    "            cv2.imwrite(os.path.join(path_output_dir, '%d.png') % count, image)\n",
    "            count += 1\n",
    "        else:\n",
    "            break\n",
    "    cv2.destroyAllWindows()\n",
    "    vidcap.release()\n",
    "\n",
    "video_to_frames('emotional database/videos/927_0282_01.MP4', 'data/')"
   ]
  },
  {
   "cell_type": "code",
   "execution_count": null,
   "metadata": {},
   "outputs": [],
   "source": [
    "for video in files:\n",
    "    video_to_frames(video, 'data/'+video[26:])"
   ]
  },
  {
   "cell_type": "code",
   "execution_count": 21,
   "metadata": {},
   "outputs": [
    {
     "data": {
      "text/plain": [
       "'927_0282_01.MP4'"
      ]
     },
     "execution_count": 21,
     "metadata": {},
     "output_type": "execute_result"
    }
   ],
   "source": [
    "s = 'emotional database/videos/927_0282_01.MP4'\n",
    "s[26:]"
   ]
  },
  {
   "cell_type": "code",
   "execution_count": null,
   "metadata": {},
   "outputs": [],
   "source": []
  }
 ],
 "metadata": {
  "kernelspec": {
   "display_name": "Python 3",
   "language": "python",
   "name": "python3"
  },
  "language_info": {
   "codemirror_mode": {
    "name": "ipython",
    "version": 3
   },
   "file_extension": ".py",
   "mimetype": "text/x-python",
   "name": "python",
   "nbconvert_exporter": "python",
   "pygments_lexer": "ipython3",
   "version": "3.7.1"
  }
 },
 "nbformat": 4,
 "nbformat_minor": 2
}
